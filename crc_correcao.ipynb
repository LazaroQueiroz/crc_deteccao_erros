{
 "cells": [
  {
   "cell_type": "markdown",
   "id": "e55fc59f-8585-4cda-b457-c46519681893",
   "metadata": {},
   "source": [
    "## Parte 2: Implementação Manual do Algoritmo CRC\n",
    "\n",
    "Nesta etapa, vocês irão implementar as equações acima. O desafio consiste em simular a divisão polinomial utilizando operações bit a bit.\n",
    "\n",
    "### Instruções:\n",
    "\n",
    "- **Implemente a Função Principal**: Crie a função calcular_crc_manual conforme o esqueleto abaixo. Ela deve receber a mensagem e o gerador (como strings de bits) e retornar o CRC (o resto da divisão).\n",
    "\n",
    "- **Implemente a Lógica de Divisão (XOR)**: A operação mod na equação é realizada através de repetidas operações de XOR. Fornecemos uma função auxiliar xor_bits para sua conveniência. O seu trabalho é orquestrar o processo de divisão.\n"
   ]
  },
  {
   "cell_type": "code",
   "execution_count": 35,
   "id": "d0d571ba-aceb-4758-a2c2-0d09730b02d5",
   "metadata": {},
   "outputs": [],
   "source": [
    "def xor_bits(a, b):\n",
    "    \"\"\"\n",
    "    Realiza a operação de XOR bit a bit entre duas strings binárias de mesmo comprimento.\n",
    "    \"\"\"\n",
    "    resultado = \"\"\n",
    "    for i in range(len(a)):\n",
    "        if a[i] == b[i]:\n",
    "            resultado += '0'\n",
    "        else:\n",
    "            resultado += '1'\n",
    "    return resultado\n",
    "\n",
    "\n",
    "def mod(a: str, b: str, debug = False) -> str:\n",
    "    \"\"\"\n",
    "        Realiza a operação binária de mod entre duas string de binários\n",
    "\n",
    "        Args:\n",
    "            a: string de binários\n",
    "            b: string de binários\n",
    "        Returns:\n",
    "            A string binária correspondente ao resultado da operação\n",
    "    \"\"\"\n",
    "    mensagem = list(a)\n",
    "    r = len(b)\n",
    "    for i in range(len(mensagem)):\n",
    "        if mensagem[i] == '1' and (i + r) <= (len(mensagem) + 1):\n",
    "            janela_atual = \"\".join(mensagem[i: i + r])\n",
    "            resultado_xor = xor_bits(janela_atual, b)\n",
    "            for j in range(len(resultado_xor)):\n",
    "                mensagem[i + j] = resultado_xor[j]\n",
    "                \n",
    "    return \"\".join(mensagem[(-r + 1):])            \n",
    "            \n",
    "                \n",
    "            \n",
    "\n",
    "def calcular_crc_manual(dados_bits: str, gerador_bits: str) -> str:\n",
    "    \"\"\"\n",
    "    Calcula o CRC para uma sequência de dados M(x) usando um gerador G(x).\n",
    "    \n",
    "    Args:\n",
    "        dados_bits: A string binária representando o polinômio da mensagem, M(x).\n",
    "        gerador_bits: A string binária representando o polinômio gerador, G(x).\n",
    "        \n",
    "    Returns:\n",
    "        A string binária de r bits representando o CRC.\n",
    "    \"\"\"\n",
    "\n",
    "    r = len(gerador_bits) - 1\n",
    "    mensagem_aumentada = list(dados_bits + '0' * r)\n",
    "    resto = mod(mensagem_aumentada, gerador_bits, True)\n",
    "    return resto\n",
    "\n",
    "def verificar_crc_manual(quadro_bits: str, gerador_bits: str) -> str:\n",
    "    \"\"\"\n",
    "    Verifica a corretude dos bits do quadro com base no gerador e resultado CRC.\n",
    "    \n",
    "    Args:\n",
    "        dados_bits: A string binária representando o polinômio da mensagem, M(x).\n",
    "        gerador_bits: A string binária representando o polinômio gerador, G(x).\n",
    "        \n",
    "    Returns:\n",
    "        A string binária de r bits representando o CRC.\n",
    "    \"\"\"\n",
    "    r = len(gerador_bits) - 1\n",
    "    resto = mod(quadro_bits, gerador_bits, True)\n",
    "    return resto[-r:] == '0' * r\n"
   ]
  },
  {
   "cell_type": "code",
   "execution_count": 36,
   "id": "7f843ae8-c601-4de0-bfb6-05ff79b84731",
   "metadata": {},
   "outputs": [
    {
     "name": "stdout",
     "output_type": "stream",
     "text": [
      "Requirement already satisfied: crc in ./venv/lib/python3.12/site-packages (7.1.0)\n",
      "Note: you may need to restart the kernel to use updated packages.\n"
     ]
    }
   ],
   "source": [
    "pip install crc"
   ]
  },
  {
   "cell_type": "code",
   "execution_count": 37,
   "id": "b7032fec-569a-4fb9-8453-727e1682bf12",
   "metadata": {},
   "outputs": [
    {
     "name": "stdout",
     "output_type": "stream",
     "text": [
      "10000110\n",
      "0110\n",
      "Dados M(x): 1101011111\n",
      "Gerador G(x): 10011\n",
      "CRC Calculado: 0010\n",
      "Resultado verificação: True\n"
     ]
    }
   ],
   "source": [
    "import crc, os\n",
    "# Exemplo de uso para validação\n",
    "dados_teste = \"1101011111\"  # M(x)\n",
    "gerador_teste = \"10011\"    # G(x)\n",
    "print(\"\".join(format(byte, '08b') for byte in os.urandom(1)))\n",
    "print(mod(dados_teste, gerador_teste))\n",
    "crc_calculado = calcular_crc_manual(dados_teste, gerador_teste)\n",
    "print(f\"Dados M(x): {dados_teste}\")\n",
    "print(f\"Gerador G(x): {gerador_teste}\")\n",
    "print(f\"CRC Calculado: {crc_calculado}\")\n",
    "quadro = dados_teste + crc_calculado\n",
    "print(f\"Resultado verificação: {verificar_crc_manual(quadro, gerador_teste)}\")\n",
    "# Quadro T(x) a ser transmitido: dados_teste + crc_calculado"
   ]
  },
  {
   "cell_type": "markdown",
   "id": "8d093112-2d89-4a65-8f40-99da607ee038",
   "metadata": {},
   "source": [
    "## Parte 3: Análise Comparativa de Desempenho\n",
    "\n",
    "Agora que possuem uma implementação funcional, vamos analisá-la sob uma perspectiva da efiência. Como o seu algoritmo se compara em eficiência a uma biblioteca padrão, que geralmente é implementada em uma linguagem de mais baixo nível (como C) para otimização?\n",
    "\n",
    "### Instruções:\n",
    "\n",
    "1. Instale a Biblioteca de Referência: pip install crc\n",
    "\n",
    "2. Crie um Script de Teste: Este script deverá medir o tempo de execução e o pico de alocação de memória para calcular o CRC de mensagens de tamanhos variados, utilizando tanto a sua função calcular_crc_manual quanto a função da biblioteca crc.\n",
    "\n",
    "3. Defina os Tamanhos de Mensagem: Teste para, no mínimo, os seguintes tamanhos de payload:\n",
    "        1500 bytes: Tamanho padrão de um quadro Ethernet (MTU).\n",
    "        4500 bytes: Um tamanho intermediário de Jumbo Frame.\n",
    "        9000 bytes: Um tamanho comum para Jumbo Frames.\n",
    "        Gere dados aleatórios para cada um desses tamanhos.\n",
    "\n",
    "4. Realize as Medições: Utilize os módulos time e tracemalloc do Python para coletar os dados de desempenho.\n"
   ]
  },
  {
   "cell_type": "markdown",
   "id": "20bc3402-5ee8-4bed-96df-a5ce589e4076",
   "metadata": {},
   "source": [
    "## Instalando Biblioteca CRC"
   ]
  },
  {
   "cell_type": "code",
   "execution_count": 38,
   "id": "ff2a8786-87b3-4ef5-8f08-8ea88596ebbf",
   "metadata": {},
   "outputs": [
    {
     "name": "stdout",
     "output_type": "stream",
     "text": [
      "Requirement already satisfied: crc in ./venv/lib/python3.12/site-packages (7.1.0)\n",
      "Note: you may need to restart the kernel to use updated packages.\n"
     ]
    }
   ],
   "source": [
    "pip install crc"
   ]
  },
  {
   "cell_type": "markdown",
   "id": "19a084ab-874c-4991-9014-e36ce053d1eb",
   "metadata": {},
   "source": [
    "## Executando Comparações"
   ]
  },
  {
   "cell_type": "code",
   "execution_count": 39,
   "id": "50478002-4c63-4a5d-b85b-f12d3c9f8f33",
   "metadata": {},
   "outputs": [
    {
     "name": "stdout",
     "output_type": "stream",
     "text": [
      "Analisando para mensagem de 1500 bytes...\n",
      "Analisando para mensagem de 3000 bytes...\n",
      "Analisando para mensagem de 4500 bytes...\n",
      "Analisando para mensagem de 6000 bytes...\n",
      "Analisando para mensagem de 9000 bytes...\n",
      "Analisando para mensagem de 16000 bytes...\n",
      "--- Resultados Finais ---\n",
      "[{'tamanho': 1500, 'tempo_manual': 0.2902871000005689, 'mem_pico_manual': 191.9951171875, 'tempo_lib': 0.07584212899928389, 'mem_pico_lib': 1.21875}, {'tamanho': 3000, 'tempo_manual': 0.4968735969996487, 'mem_pico_manual': 378.494140625, 'tempo_lib': 0.15560978299981798, 'mem_pico_lib': 1.21875}, {'tamanho': 4500, 'tempo_manual': 0.7383553090003261, 'mem_pico_manual': 565.994140625, 'tempo_lib': 0.22989691799921275, 'mem_pico_lib': 1.21875}, {'tamanho': 6000, 'tempo_manual': 0.9863862409983994, 'mem_pico_manual': 753.51171875, 'tempo_lib': 0.30173759299941594, 'mem_pico_lib': 1.21875}, {'tamanho': 9000, 'tempo_manual': 1.4713303000007727, 'mem_pico_manual': 1128.494140625, 'tempo_lib': 0.45693448199926934, 'mem_pico_lib': 2.078125}, {'tamanho': 16000, 'tempo_manual': 2.6123352839986183, 'mem_pico_manual': 2003.49609375, 'tempo_lib': 0.8138678579998668, 'mem_pico_lib': 1.21875}]\n"
     ]
    }
   ],
   "source": [
    "import time\n",
    "import tracemalloc\n",
    "import os\n",
    "from crc import Calculator, Crc16\n",
    "\n",
    "# --- Insira sua função calcular_crc_manual e xor_bits aqui ---\n",
    "\n",
    " # Usando um padrão de 16 bits como referência\n",
    "calculator_lib = Calculator(Crc16.MODBUS)\n",
    "\n",
    "# Tamanhos de mensagem para teste (em bytes)\n",
    "tamanhos_bytes = [1500, 3000, 4500, 6000, 9000, 16000]\n",
    "\n",
    "resultados = []\n",
    "\n",
    "for tamanho in tamanhos_bytes:\n",
    "    print(f\"Analisando para mensagem de {tamanho} bytes...\")\n",
    "    # Gere uma mensagem aleatória de bits\n",
    "    mensagem_bytes = os.urandom(tamanho)\n",
    "    mensagem_bits = \"\".join(format(byte, '08b') for byte in mensagem_bytes)\n",
    "    \n",
    "    # Medição da nossa Implementação\n",
    "    tracemalloc.start()\n",
    "    start_time = time.perf_counter()\n",
    "    \n",
    "    crc_manual = calcular_crc_manual(mensagem_bits, \"11000000000000101\") # G(x) do CRC-16/MODBUS\n",
    "    \n",
    "    end_time = time.perf_counter()\n",
    "    mem_atual_manual, mem_pico_manual = tracemalloc.get_traced_memory()\n",
    "    tracemalloc.stop()\n",
    "    \n",
    "    tempo_manual = end_time - start_time\n",
    "    \n",
    "    # Medição da Biblioteca\n",
    "    tracemalloc.start()\n",
    "    start_time = time.perf_counter()\n",
    "    \n",
    "    crc_lib = calculator_lib.checksum(mensagem_bytes)\n",
    "    \n",
    "    end_time = time.perf_counter()\n",
    "    mem_atual_lib, mem_pico_lib = tracemalloc.get_traced_memory()\n",
    "    tracemalloc.stop()\n",
    "    \n",
    "    tempo_lib = end_time - start_time\n",
    "    \n",
    "    # Armazene os resultados\n",
    "    resultados.append({\n",
    "        \"tamanho\": tamanho,\n",
    "        \"tempo_manual\": tempo_manual,\n",
    "        \"mem_pico_manual\": mem_pico_manual / 1024, # em KiB\n",
    "        \"tempo_lib\": tempo_lib,\n",
    "        \"mem_pico_lib\": mem_pico_lib / 1024 # em KiB\n",
    "    })\n",
    "\n",
    "print(\"--- Resultados Finais ---\")\n",
    "print(resultados)"
   ]
  },
  {
   "cell_type": "markdown",
   "id": "dba7eec3-798e-4443-8390-de0db7a492b1",
   "metadata": {},
   "source": [
    "## Instalando matplotlib e numby para comparação de performance do manual vs biblioteca"
   ]
  },
  {
   "cell_type": "code",
   "execution_count": 40,
   "id": "399fee38-7a27-4bdb-b91e-f01ca2a5ccb2",
   "metadata": {},
   "outputs": [
    {
     "name": "stdout",
     "output_type": "stream",
     "text": [
      "Requirement already satisfied: matplotlib in ./venv/lib/python3.12/site-packages (3.10.3)\n",
      "Requirement already satisfied: numpy in ./venv/lib/python3.12/site-packages (2.3.1)\n",
      "Requirement already satisfied: contourpy>=1.0.1 in ./venv/lib/python3.12/site-packages (from matplotlib) (1.3.2)\n",
      "Requirement already satisfied: cycler>=0.10 in ./venv/lib/python3.12/site-packages (from matplotlib) (0.12.1)\n",
      "Requirement already satisfied: fonttools>=4.22.0 in ./venv/lib/python3.12/site-packages (from matplotlib) (4.59.0)\n",
      "Requirement already satisfied: kiwisolver>=1.3.1 in ./venv/lib/python3.12/site-packages (from matplotlib) (1.4.8)\n",
      "Requirement already satisfied: packaging>=20.0 in ./venv/lib/python3.12/site-packages (from matplotlib) (25.0)\n",
      "Requirement already satisfied: pillow>=8 in ./venv/lib/python3.12/site-packages (from matplotlib) (11.3.0)\n",
      "Requirement already satisfied: pyparsing>=2.3.1 in ./venv/lib/python3.12/site-packages (from matplotlib) (3.2.3)\n",
      "Requirement already satisfied: python-dateutil>=2.7 in ./venv/lib/python3.12/site-packages (from matplotlib) (2.9.0.post0)\n",
      "Requirement already satisfied: six>=1.5 in ./venv/lib/python3.12/site-packages (from python-dateutil>=2.7->matplotlib) (1.17.0)\n",
      "Note: you may need to restart the kernel to use updated packages.\n"
     ]
    }
   ],
   "source": [
    "pip install matplotlib numpy"
   ]
  },
  {
   "cell_type": "code",
   "execution_count": 41,
   "id": "97785641-3773-4edc-8eef-0dbafbc018b5",
   "metadata": {},
   "outputs": [
    {
     "data": {
      "image/png": "[encoded data removed]",
      "text/plain": [
       "<Figure size 1500x600 with 2 Axes>"
      ]
     },
     "metadata": {},
     "output_type": "display_data"
    }
   ],
   "source": [
    "import matplotlib.pyplot as plt\n",
    "import numpy as np\n",
    "\n",
    "# Extrair dados\n",
    "tamanhos = [d['tamanho'] for d in resultados]\n",
    "tempo_manual = [d['tempo_manual'] for d in resultados]\n",
    "tempo_lib = [d['tempo_lib'] for d in resultados]\n",
    "mem_manual = [d['mem_pico_manual'] for d in resultados]\n",
    "mem_lib = [d['mem_pico_lib'] for d in resultados]\n",
    "\n",
    "fig, (ax1, ax2) = plt.subplots(1, 2, figsize=(15, 6))\n",
    "\n",
    "# Gráfico de Tempo\n",
    "ax1.plot(tamanhos, tempo_manual, 'o-', label='Manual', linewidth=2, markersize=8, color='red')\n",
    "ax1.plot(tamanhos, tempo_lib, 's-', label='Biblioteca', linewidth=2, markersize=8, color='blue')\n",
    "ax1.set_xlabel('Tamanho da Mensagem (B)')\n",
    "ax1.set_ylabel('Tempo (s)')\n",
    "ax1.set_title('Tempo de Execução')\n",
    "ax1.legend()\n",
    "ax1.grid(True, alpha=0.3)\n",
    "ax1.set_xscale('log')\n",
    "ax1.set_yscale('log')\n",
    "\n",
    "# Gráfico de Memória\n",
    "ax2.plot(tamanhos, mem_manual, 'o-', label='Manual', linewidth=2, markersize=8, color='red')\n",
    "ax2.plot(tamanhos, mem_lib, 's-', label='Biblioteca', linewidth=2, markersize=8, color='blue')\n",
    "ax2.set_xlabel('Tamanho da Mensagem (B)')\n",
    "ax2.set_ylabel('Pico de Memória (MB)')\n",
    "ax2.set_title('Uso de Memória')\n",
    "ax2.legend()\n",
    "ax2.grid(True, alpha=0.3)\n",
    "ax2.set_xscale('log')\n",
    "ax2.set_yscale('log')\n",
    "\n",
    "plt.tight_layout()\n",
    "plt.show()"
   ]
  },
  {
   "cell_type": "markdown",
   "id": "3fa21f2e-799e-42fa-b1f8-6074b890bcd5",
   "metadata": {},
   "source": [
    "## Resultados\n",
    "\n",
    "Ao analisar os dois gráficos percebemos que a biblioteca supera a nossa implementação tanto em relação ao tempo de execução e a memória utilizada. Percebemos que tanto o algoritmo criado por nós quanto o algoritmo da biblioteca parecem atuar em tempo linear em relação ao tamannho do input, sendo que o manual apresenta um acréscimo constante em relação ao algoritmo da biblioteca. Já em relação ao uso de memória, percebemos que o algoritmo da biblioteca apresenta um crescimento quase nulo, aparentando usar uma complexidade de uso de espaço de O(1), enquanto o algoritmo que implementados apresenta um crescimento linear do uso de memória.\n",
    "\n",
    "A máquina utilizada para rodar o experimento de comparação possui as seguintes características:\n",
    "```\n",
    "OS: Ubuntu 24.04.2  \n",
    "Kernel: 6.14.0-24-g \n",
    "CPU: Intel Xeon E5-2670 v3 (24) @ 3.100GHz \n",
    "Memória: 8GB DDR4 - 2133MHz\n",
    "```"
   ]
  },
  {
   "cell_type": "markdown",
   "id": "a40a2ec3-a152-4659-bdf2-31b055e08e4b",
   "metadata": {},
   "source": [
    "## Parte 4: Análise Investigativa da Detecção de Erros (Cenário Personalizado)\n",
    "\n",
    "Esta etapa final é uma investigação para encontrar os limites da sua implementação, utilizando um cenário único para cada aluno.\n",
    "4.1 - Preparação do seu cenário\n",
    "\n",
    "a. Sua Mensagem Pessoal: utilize seu seu nome completo e o converta para uma string de bits usando codificação ASCII (8 bits por caractere). Essa será sua MENSAGEM_BASE.\n",
    "\n",
    "Você pode utilizar o site convertbinary.com\n",
    "Ex: nome = \"Ana\" -> bits = \"010000010110111001100001\"\n",
    "\n",
    "b. Escolha o seu Gerador pessoal: utilize um dos seguintes polinômios geradores de CRC-16 padrão, com base no último dígito do seu número de matrícula:\n",
    "\n",
    "> **Final 0, 1, 2**: CRC-16/MODBUS (11000000000000101 ou x 16 + x 15 + x 2 + 1 ) -> 11000000000000101\n",
    "> \n",
    "> **Final 3, 4, 5**: CRC-16/ARC (10001000000100001 ou x 16 + x 12 + x 5 + 1 ) -> 1100000100010001 (representação de 17 bits)\n",
    "> \n",
    "> **Final 6, 7**: CRC-16/MAXIM (10011000000010001 ou x 16 + x 15 + x 14 + x 11 + x 4 + x 2 + x 0 )\n",
    "> \n",
    "> **Final 8, 9**: CRC-16/CCITT-FALSE (10001000000100001 ou x 16 + x 12 + x 5 + 1 ) -> 10001000000100001\n",
    "\n",
    "⚠️ Prencha a planilha\n",
    "\n",
    "|VARIAVEL|VALOR|\n",
    "|---|---|\n",
    "|MENSAGEM|\"Lázaro Queiroz do Nascimento\"|\n",
    "|MENSAGEM_BASE|01001100111000010111101001100001011100100110111100100000010100010111010101100101011010010111001001101111011110100010000001100100011011110010000001001110011000010111001101100011011010010110110101100101011011100111010001101111|\n",
    "|CRC|0110000011000001|\n",
    "\n",
    "\n",
    "### 4.2 - A Caça aos Erros\n",
    "\n",
    "Agora é hora de colocar sua função calcular_crc_manual à prova — e comparar a acuracia da sua implementação com a biblioteca!\n",
    "\n",
    "Para isso, use sua MENSAGEM_BASE fixa e siga o procedimento abaixo dez vezes, variando a posição e o tipo dos erros inseridos de forma aleatória em cada experimento. Seu objetivo é descobrir quais padrões de erro passam despercebidos pelo seu CRC.\n",
    "\n",
    "#### Procedimento de Teste (a ser repetido 10 vezes)\n",
    "\n",
    "1. Calcule o CRC da sua MENSAGEM_BASE.\n",
    "2. Forme o QUADRO_TRANSMITIDO (T(x)): concatene a mensagem com o CRC calculado.\n",
    "3. Escolha uma posição aleatória e insira um erro de rajada de n bits (e.g., uma sequência contínua de n bits invertidos).\n",
    "4. Obtenha o QUADRO_CORROMPIDO, aplicando XOR entre o QUADRO_TRANSMITIDO e o padrão de erro.\n",
    "5. Calcule o CRC do QUADRO_CORROMPIDO, usando:\n",
    "    - Sua função calcular_crc_manual.\n",
    "    - A função da biblioteca de CRC.\n",
    "7. Verifique se o erro foi detectado:\n",
    "    - Se o CRC resultante for uma sequência de zeros, o erro não foi detectado.\n",
    "    - Se o CRC resultante for diferente de zero, o erro foi detectado.\n",
    "8. Registre o padrão de erro e a posição onde ele foi inserido, especialmente se não for detectado por uma das implementações.\n",
    "\n",
    "### ⚠️ Reportando o Ponto Cego\n",
    "\n",
    "Como aprendemos, o CRC-16 tem suas limitações. Em teoria, ele detecta todas as rajadas, mas para erros maiores que sua capacidade, nem todos os casos são garantidos.\n",
    "\n",
    "Sua missão é encontrar pelo menos um padrão de erro de n bits que não seja detectado. Você deve:\n",
    "\n",
    "    - Reportar em qual dos 10 testes isso ocorreu.\n",
    "    - Identificar qual implementação falhou (manual, biblioteca ou ambas).\n",
    "    - Analisar em qual posição e qual padrão foi usado.\n",
    "\n",
    "Ao final dos testes, compare os resultados entre sua implementação manual e a da biblioteca. Há diferenças? Um dos métodos detectou erros que o outro deixou passar?\n",
    "\n",
    "### ⚠️ Resultado Esperado:\n",
    "\n",
    "Você deve entregar um pequeno relatório com:\n",
    "\n",
    "    - Os 10 padrões de erro testados e suas posições.\n",
    "    - Indicação de quais erros foram ou não detectados.\n",
    "    - Qual implementação falhou em cada caso.\n",
    "    - Reflexão sobre as limitações do CRC, testado e a comparação.\n"
   ]
  },
  {
   "cell_type": "code",
   "execution_count": 43,
   "id": "e1ff4c25-80ca-4a6b-b926-604e4a32dbee",
   "metadata": {},
   "outputs": [
    {
     "name": "stdout",
     "output_type": "stream",
     "text": [
      "Mensagem original: Lázaro Queiroz do Nascimento\n",
      "Mensagem em bits: 01001100111000010111101001100001011100100110111100100000010100010111010101100101011010010111001001101111011110100010000001100100011011110010000001001110011000010111001101100011011010010110110101100101011011100111010001101111\n",
      "CRC Manual: 0101001111101101\n",
      "Verificações feitas!!\n",
      "Testes realizados: 24976\n",
      "Finalizado\n"
     ]
    }
   ],
   "source": [
    "from crc import Calculator, Crc16, Configuration\n",
    "\n",
    "def bits_para_bytes(bits):\n",
    "    return int(bits, 2).to_bytes((len(bits) + 7) // 8, byteorder='big')\n",
    "    \n",
    "mensagem_base = \"Lázaro Queiroz do Nascimento\"\n",
    "mensagem_base_bits = ''.join(format(ord(char), '08b') for char in mensagem_base)\n",
    "print(f'Mensagem original: {mensagem_base}')\n",
    "print(f'Mensagem em bits: {mensagem_base_bits}')\n",
    "gerador = \"11000000000000101\"\n",
    "\n",
    "calculator = Calculator(Crc16.MODBUS)\n",
    "\n",
    "crc_manual = calcular_crc_manual(mensagem_base_bits, gerador)\n",
    "print(f'CRC Manual: {crc_manual}')\n",
    "crc_biblioteca = calculator.checksum(bits_para_bytes(mensagem_base_bits))\n",
    "\n",
    "\n",
    "if verificar_crc_manual(mensagem_base_bits + crc_manual, gerador) and calculator.verify(bits_para_bytes(mensagem_base_bits), crc_biblioteca):\n",
    "    print(\"Verificações feitas!!\")\n",
    "\n",
    "# Coleção abaixo representa padrões de erro: (tamanho da rajada de bits, posição de início da rajada)\n",
    "a = []\n",
    "for i in range(1, len(mensagem_base_bits)):\n",
    "    for j in range(len(mensagem_base_bits) - i):\n",
    "        a.append((i, j))\n",
    "\n",
    "# Resultados das verificações\n",
    "resultados = []\n",
    "\n",
    "for t in a:\n",
    "    \n",
    "    n, pi = t\n",
    "    mensagem_transmitida = [bit for bit in mensagem_base_bits]\n",
    "\n",
    "    for i in range(pi, pi + n):\n",
    "        if mensagem_base_bits[i] == '0':\n",
    "            mensagem_transmitida[i] = '1'\n",
    "        else:\n",
    "            mensagem_transmitida[i] = '0'\n",
    "            \n",
    "    mensagem_transmitida = ''.join(mensagem_transmitida)\n",
    "    quadro_transmitido = mensagem_transmitida + crc_manual\n",
    "            \n",
    "    verify_biblioteca = calculator.verify(bits_para_bytes(mensagem_transmitida), crc_biblioteca)\n",
    "    verify_manual = verificar_crc_manual(quadro_transmitido, gerador)\n",
    "\n",
    "    log = {\n",
    "        'status_manual': verify_manual,\n",
    "        'status_biblioteca': verify_biblioteca,\n",
    "        'n': n,\n",
    "        'pi': pi,\n",
    "        'message': ''.join(mensagem_transmitida)\n",
    "    }\n",
    "    resultados.append(log)\n",
    "\n",
    "print(f'Testes realizados: {len(resultados)}')\n",
    "for resultado in resultados:\n",
    "    if resultado['status_manual'] or resultado['status_biblioteca']:\n",
    "        print(resultado)\n",
    "print('Finalizado')"
   ]
  },
  {
   "cell_type": "markdown",
   "id": "831315f7-0a43-40a9-a9ab-7a0e6777c928",
   "metadata": {},
   "source": [
    "## Relatório\n",
    "\n",
    "Como pode-se perceber no código acima, nenhuma das combinações de padrão de erro passou despercebida por nenhuma das duas implementações do algoritmo de verificação CRC.\n",
    "Porém, sabe-se que o CRC apresenta suas limitações: Sabemos que só é garantido a detecção de erros para rajadas de bits de tamanho até r (tamanho do gerador menos 1). Para erros com mais de r, sabe-se que o CRC apresenta a probabilidade de 1/2^-r de não detectar um erro, o que para o caso do CRC16-MODBUS corresponde a uma chance de 1/65536, o que é muito baixa."
   ]
  }
 ],
 "metadata": {
  "kernelspec": {
   "display_name": "Python 3 (ipykernel)",
   "language": "python",
   "name": "python3"
  },
  "language_info": {
   "codemirror_mode": {
    "name": "ipython",
    "version": 3
   },
   "file_extension": ".py",
   "mimetype": "text/x-python",
   "name": "python",
   "nbconvert_exporter": "python",
   "pygments_lexer": "ipython3",
   "version": "3.12.3"
  }
 },
 "nbformat": 4,
 "nbformat_minor": 5
}
